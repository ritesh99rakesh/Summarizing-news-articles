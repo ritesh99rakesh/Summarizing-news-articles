{
 "cells": [
  {
   "cell_type": "code",
   "execution_count": 1,
   "metadata": {
    "collapsed": true
   },
   "outputs": [],
   "source": [
    "import re\n",
    "import nltk\n",
    "import collections\n",
    "import math\n",
    "from nltk.corpus import reuters\n",
    "from nltk.corpus import stopwords\n",
    "from nltk.stem import PorterStemmer\n",
    "import numpy as np\n",
    "import random\n",
    "import pickle\n",
    "from nltk.corpus import reuters"
   ]
  },
  {
   "cell_type": "code",
   "execution_count": 2,
   "metadata": {
    "collapsed": true
   },
   "outputs": [],
   "source": [
    "#load the required data\n",
    "def load_data(master_dict):\n",
    "    with open(master_dict, \"rb\") as f:\n",
    "        data = pickle.load(f)\n",
    "    return data \n",
    "\n",
    "data = load_data(\"dict.dat\")"
   ]
  },
  {
   "cell_type": "code",
   "execution_count": 3,
   "metadata": {
    "collapsed": true
   },
   "outputs": [],
   "source": [
    "#get all the trained variables\n",
    "embeddings = data['embeddings']\n",
    "reverse_dictionary = data['reverse_dictionary']\n",
    "dictionary = data['dictionary']\n",
    "\n",
    "#delete data to free some memory\n",
    "del(data)"
   ]
  },
  {
   "cell_type": "code",
   "execution_count": 4,
   "metadata": {
    "collapsed": true
   },
   "outputs": [],
   "source": [
    "documents = reuters.fileids()\n",
    "train_docs = list(filter(lambda doc: doc.startswith(\"test\"),documents));\n",
    "all_sents = []\n",
    "for doc in train_docs:\n",
    "    sent = reuters.sents(fileids=[doc])\n",
    "    all_sents = all_sents + list(sent)"
   ]
  },
  {
   "cell_type": "code",
   "execution_count": 5,
   "metadata": {
    "scrolled": false
   },
   "outputs": [
    {
     "name": "stdout",
     "output_type": "stream",
     "text": [
      "Goods and Services Tax (GST) is an indirect tax applicable throughout India which replaced multiple cascading taxes levied by the central and state governments. It was introduced as The Constitution (One Hundred and First Amendment) Act 2017, following the passage of Constitution 122nd Amendment Bill. The GST is governed by a GST Council and its Chairman is the Finance Minister of India. Under GST, goods and services are taxed at the following rates, 0%, 5%, 12% and 18%. There is a special rate of 0.25% on rough precious and semi-precious stones and 3% on gold. In addition a cess of 15% or other rates on top of 28% GST applies on few items like aerated drinks, luxury cars and tobacco products.Touted by the government to be India's biggest tax reform in 70 years of independence, the Goods and Services Tax (GST) was finally launched on the midnight of 30 June 2017, though the process of forming the legislation took 17 years (since 2000 when it was first proposed). The launch was marked by a historic midnight (30 June - 1 July 2017) session of both the houses of parliament convened at the Central Hall of the Parliament, but which was immediately boycotted by the opposition by staging a walk out to show their disapproval of the same.Members of the Congress boycotted the GST launch altogether. They were joined by members of the Trinamool Congress, Communist Parties of India and the DMK, who reportedly found virtually no difference between the existing taxation system, and therefore claimed that the government was trying to merely rebrand the current taxation system but made it worse for common people by increasing existing rates on common items and reducing rates on luxury items. Many critics pointed out that the GST would increase costs of daily goods and affect many Indians adversely, especially the middle, lower middle and poorer classes GST was initially proposed to replace a slew of indirect taxes with a unified tax and was therefore set to dramatically reshape the country's 2 trillion dollar economy. However, it has been met with sharp criticism from various fronts due to the increased costs and troubles that it will cause to common citizens. The rate of GST in India is between double to four times that levied in other countries like Singapore.The reform process of India's indirect tax regime was started in 1986 by Vishwanath Pratap Singh with the introduction of the Modified Value Added Tax (MODVAT). A single common \"Goods and Services tax (GST)\" was proposed and given a go-ahead in 1999 during a meeting between then Prime Minister Atal Bihari Vajpayee and his economic advisory panel, which included three former RBI governors IG Patel, Bimal Jalan and C Rangarajan. Vajpayee set up a committee headed by the then finance minister of West Bengal, Asim Dasgupta to design a GST model.The Ravi Dasgupta committee was also tasked with putting in place the backend technology and logistics (later came to be known as GSTN in 2017) for rolling out a uniform taxation regime in the country. In 2003, the Vajpayee government formed a task force under Vijay Kelkar to recommend tax reforms. In 2005, the Kelkar committee recommended rolling out GST as suggested by the 12th Finance Commission.After the fall of the BJP led NDA government in 2004, and the election of a Congress led UPA government, the new Finance Minister P Chidambaram in February 2006 continued work on the same and proposed a GST rollout by 1 April 2010. However in 2010, with the Trinamool Congress routing CPI(M) out of power in West Bengal, Asim Dasgupta resigned as the head of the GST committee. Dasgupta admitted in an interview that 80% of the task had been done.In 2014, the NDA government was re-elected into power, this time under the leadership of Narendra Modi. With the consequential dissolution of the 15th Lok Sabha, the GST Bill – approved by the standing committee for reintroduction – lapsed. Seven months after the formation of the Modi government, the new Finance Minister Arun Jaitley introduced the GST Bill in the Lok Sabha, where the BJP had a majority. In February 2015, Jaitley set another deadline of 1 April 2016 to implement GST. In May 2015, the Lok Sabha passed the Constitution Amendment Bill, paving way for GST. However, the Opposition, led by the Congress demanded that the GST Bill be again sent back to the Select Committee of the Rajya Sabha due to disagreements on several statements in the Bill relating to taxation. Finally in August 2016, the Amendment Bill was passed. Over the next 15 to 20 days, 18 states ratified the GST Bill and the President Pranab Mukherjee gave his assent to it.A 21-members select committee was formed to look into the proposed GST laws. State and Union Territory GST laws were passed by all the states and Union Territories of India except Jammu & Kashmir, paving the way for smooth rollout of the tax from 1 July 2017. There will be no GST on the sale and purchase of securities. That will continue to be governed by Securities Transaction Tax (STT).The Goods and Services Tax (GST), was launched on the midnight of 30 June 2017 by the Prime Minister of India Narendra Modi. The launch was marked by a historic midnight (June 30-July 1, 2017) session of both the houses of parliament convened at the Central Hall of the Parliament. Though the session was attended by high-profile guests from the business and the entertainment industry including Ratan Tata, it was boycotted by the opposition due to the predicted problems that it was bound to lead to for the middle and lower class Indians.  It is one of the few midnight sessions that have been held by the parliament - the others being: the first, August 15, 1947, declaring India’s independence marked by Nehru’s historic speech Tryst with Destiny; the second, August 15, 1972, celebrating the silver jubilee of India’s independence; and the third, August 15, 1997: celebrating the golden jubilee of India’s Independence.A single GST replaced several existing taxes and levies which include: central excise duty, services tax, additional customs duty, surcharges, state-level value added tax and Octroi. Other levies which were applicable on inter-state transportation of goods has also been done away with in GST regime.GST is levied on all transactions such as sale, transfer, purchase, barter, lease, or import of goods and/or services. India adopted a dual GST model, meaning that taxation is administered by both the Union and State Governments. Transactions made within a single state will be levied with Central GST (CGST) by the Central Government and State GST (SGST) by the government of that state. For inter-state transactions and imported goods or services, an Integrated GST (IGST) is levied by the Central Government. GST is a consumption-based tax, therefore, taxes are paid to the state where the goods or services are consumed not the state in which they were produced. IGST complicates tax collection for State Governments by disabling them to collect the tax owed to them directly from the Central Government. Under the previous system, a state would have to only deal with a single government in order to collect tax revenue.The GST is imposed at different rates on different items. The rate of GST is 18% for soaps and 28% on washing detergents. GST on movie tickets is based on slabs, with 18% GST for tickets that cost less than Rs. 100 and 28% GST on tickets costing more than Rs.100. The rate on under-construction property booking is 12%.The introduction of the GST increased the costs of most consumer goods and services in India including food, hotel charges, insurance and cinema tickets. Upon its introduction in the country, GST led to a number of protests by the business community, primarily due to an increase in overall taxes and hence the prices of goods. Nearly 1100 cinema theaters in the state of Tamil Nadu declared an indefinite strike from 3rd July 2017.Checkposts across the country were abolished ensuring free and fast movement of goods.The Central Government had proposed to insulate the revenues of the States from the impact of GST, with the expectation that in due course, GST will be levied on petroleum and petroleum products. The central government had assured states of compensation for any revenue loss incurred by them from the date of GST for a period of five years. However, no concrete laws were made to support such action.As per the government website on GST, \"Goods and Services Tax\" Network (GSTN) is a nonprofit organisation proposed to be formed for creating a website / platform for all the concerned parties related to the GST, namely stakeholders, government and taxpayers to collaborate on a single portal. When up and running, the portal is supposed to be accessible to the central government which allows it to track down every transaction on its end while taxpayers are advertised to have the ability of connecting this to their tax returns. However its efficacy and efficiency is yet to be tested. The IT network was touted to be developed by unnamed private firms. The known authorised capital of GSTN is ₹10 crore (US$1.6 million) in which Central Government holds 24.5 percent of shares while the state government holds 24.5 percent and rest with private banking firms for smooth running of the transactions.\n"
     ]
    }
   ],
   "source": [
    "#read the input file and store it in a string\n",
    "def read_file(filename):\n",
    "    with open(filename, 'r') as myfile:\n",
    "        text = myfile.read().decode(\"utf-8\").replace('\\n', '')\n",
    "    return text\n",
    "# add file name in the argument\n",
    "text = read_file('gst.txt')\n",
    "print(text)"
   ]
  },
  {
   "cell_type": "code",
   "execution_count": 6,
   "metadata": {},
   "outputs": [
    {
     "name": "stdout",
     "output_type": "stream",
     "text": [
      "49\n"
     ]
    }
   ],
   "source": [
    "# get the sentences\n",
    "sents = nltk.sent_tokenize(text)\n",
    "print(len(sents))"
   ]
  },
  {
   "cell_type": "code",
   "execution_count": 7,
   "metadata": {
    "scrolled": false
   },
   "outputs": [
    {
     "name": "stdout",
     "output_type": "stream",
     "text": [
      "[[u'Goods', u'and', u'Services', u'Tax', u'(', u'GST', u')', u'is', u'an', u'indirect', u'tax', u'applicable', u'throughout', u'India', u'which', u'replaced', u'multiple', u'cascading', u'taxes', u'levied', u'by', u'the', u'central', u'and', u'state', u'governments', u'.'], [u'It', u'was', u'introduced', u'as', u'The', u'Constitution', u'(', u'One', u'Hundred', u'and', u'First', u'Amendment', u')', u'Act', u'2017', u',', u'following', u'the', u'passage', u'of', u'Constitution', u'122nd', u'Amendment', u'Bill', u'.'], [u'The', u'GST', u'is', u'governed', u'by', u'a', u'GST', u'Council', u'and', u'its', u'Chairman', u'is', u'the', u'Finance', u'Minister', u'of', u'India', u'.'], [u'Under', u'GST', u',', u'goods', u'and', u'services', u'are', u'taxed', u'at', u'the', u'following', u'rates', u',', u'0', u'%', u',', u'5', u'%', u',', u'12', u'%', u'and', u'18', u'%', u'.'], [u'There', u'is', u'a', u'special', u'rate', u'of', u'0.25', u'%', u'on', u'rough', u'precious', u'and', u'semi-precious', u'stones', u'and', u'3', u'%', u'on', u'gold', u'.'], [u'In', u'addition', u'a', u'cess', u'of', u'15', u'%', u'or', u'other', u'rates', u'on', u'top', u'of', u'28', u'%', u'GST', u'applies', u'on', u'few', u'items', u'like', u'aerated', u'drinks', u',', u'luxury', u'cars', u'and', u'tobacco', u'products.Touted', u'by', u'the', u'government', u'to', u'be', u'India', u\"'s\", u'biggest', u'tax', u'reform', u'in', u'70', u'years', u'of', u'independence', u',', u'the', u'Goods', u'and', u'Services', u'Tax', u'(', u'GST', u')', u'was', u'finally', u'launched', u'on', u'the', u'midnight', u'of', u'30', u'June', u'2017', u',', u'though', u'the', u'process', u'of', u'forming', u'the', u'legislation', u'took', u'17', u'years', u'(', u'since', u'2000', u'when', u'it', u'was', u'first', u'proposed', u')', u'.'], [u'The', u'launch', u'was', u'marked', u'by', u'a', u'historic', u'midnight', u'(', u'30', u'June', u'-', u'1', u'July', u'2017', u')', u'session', u'of', u'both', u'the', u'houses', u'of', u'parliament', u'convened', u'at', u'the', u'Central', u'Hall', u'of', u'the', u'Parliament', u',', u'but', u'which', u'was', u'immediately', u'boycotted', u'by', u'the', u'opposition', u'by', u'staging', u'a', u'walk', u'out', u'to', u'show', u'their', u'disapproval', u'of', u'the', u'same.Members', u'of', u'the', u'Congress', u'boycotted', u'the', u'GST', u'launch', u'altogether', u'.'], [u'They', u'were', u'joined', u'by', u'members', u'of', u'the', u'Trinamool', u'Congress', u',', u'Communist', u'Parties', u'of', u'India', u'and', u'the', u'DMK', u',', u'who', u'reportedly', u'found', u'virtually', u'no', u'difference', u'between', u'the', u'existing', u'taxation', u'system', u',', u'and', u'therefore', u'claimed', u'that', u'the', u'government', u'was', u'trying', u'to', u'merely', u'rebrand', u'the', u'current', u'taxation', u'system', u'but', u'made', u'it', u'worse', u'for', u'common', u'people', u'by', u'increasing', u'existing', u'rates', u'on', u'common', u'items', u'and', u'reducing', u'rates', u'on', u'luxury', u'items', u'.'], [u'Many', u'critics', u'pointed', u'out', u'that', u'the', u'GST', u'would', u'increase', u'costs', u'of', u'daily', u'goods', u'and', u'affect', u'many', u'Indians', u'adversely', u',', u'especially', u'the', u'middle', u',', u'lower', u'middle', u'and', u'poorer', u'classes', u'GST', u'was', u'initially', u'proposed', u'to', u'replace', u'a', u'slew', u'of', u'indirect', u'taxes', u'with', u'a', u'unified', u'tax', u'and', u'was', u'therefore', u'set', u'to', u'dramatically', u'reshape', u'the', u'country', u\"'s\", u'2', u'trillion', u'dollar', u'economy', u'.'], [u'However', u',', u'it', u'has', u'been', u'met', u'with', u'sharp', u'criticism', u'from', u'various', u'fronts', u'due', u'to', u'the', u'increased', u'costs', u'and', u'troubles', u'that', u'it', u'will', u'cause', u'to', u'common', u'citizens', u'.'], [u'The', u'rate', u'of', u'GST', u'in', u'India', u'is', u'between', u'double', u'to', u'four', u'times', u'that', u'levied', u'in', u'other', u'countries', u'like', u'Singapore.The', u'reform', u'process', u'of', u'India', u\"'s\", u'indirect', u'tax', u'regime', u'was', u'started', u'in', u'1986', u'by', u'Vishwanath', u'Pratap', u'Singh', u'with', u'the', u'introduction', u'of', u'the', u'Modified', u'Value', u'Added', u'Tax', u'(', u'MODVAT', u')', u'.'], [u'A', u'single', u'common', u'``', u'Goods', u'and', u'Services', u'tax', u'(', u'GST', u')', u\"''\", u'was', u'proposed', u'and', u'given', u'a', u'go-ahead', u'in', u'1999', u'during', u'a', u'meeting', u'between', u'then', u'Prime', u'Minister', u'Atal', u'Bihari', u'Vajpayee', u'and', u'his', u'economic', u'advisory', u'panel', u',', u'which', u'included', u'three', u'former', u'RBI', u'governors', u'IG', u'Patel', u',', u'Bimal', u'Jalan', u'and', u'C', u'Rangarajan', u'.'], [u'Vajpayee', u'set', u'up', u'a', u'committee', u'headed', u'by', u'the', u'then', u'finance', u'minister', u'of', u'West', u'Bengal', u',', u'Asim', u'Dasgupta', u'to', u'design', u'a', u'GST', u'model.The', u'Ravi', u'Dasgupta', u'committee', u'was', u'also', u'tasked', u'with', u'putting', u'in', u'place', u'the', u'backend', u'technology', u'and', u'logistics', u'(', u'later', u'came', u'to', u'be', u'known', u'as', u'GSTN', u'in', u'2017', u')', u'for', u'rolling', u'out', u'a', u'uniform', u'taxation', u'regime', u'in', u'the', u'country', u'.'], [u'In', u'2003', u',', u'the', u'Vajpayee', u'government', u'formed', u'a', u'task', u'force', u'under', u'Vijay', u'Kelkar', u'to', u'recommend', u'tax', u'reforms', u'.'], [u'In', u'2005', u',', u'the', u'Kelkar', u'committee', u'recommended', u'rolling', u'out', u'GST', u'as', u'suggested', u'by', u'the', u'12th', u'Finance', u'Commission.After', u'the', u'fall', u'of', u'the', u'BJP', u'led', u'NDA', u'government', u'in', u'2004', u',', u'and', u'the', u'election', u'of', u'a', u'Congress', u'led', u'UPA', u'government', u',', u'the', u'new', u'Finance', u'Minister', u'P', u'Chidambaram', u'in', u'February', u'2006', u'continued', u'work', u'on', u'the', u'same', u'and', u'proposed', u'a', u'GST', u'rollout', u'by', u'1', u'April', u'2010', u'.'], [u'However', u'in', u'2010', u',', u'with', u'the', u'Trinamool', u'Congress', u'routing', u'CPI', u'(', u'M', u')', u'out', u'of', u'power', u'in', u'West', u'Bengal', u',', u'Asim', u'Dasgupta', u'resigned', u'as', u'the', u'head', u'of', u'the', u'GST', u'committee', u'.'], [u'Dasgupta', u'admitted', u'in', u'an', u'interview', u'that', u'80', u'%', u'of', u'the', u'task', u'had', u'been', u'done.In', u'2014', u',', u'the', u'NDA', u'government', u'was', u're-elected', u'into', u'power', u',', u'this', u'time', u'under', u'the', u'leadership', u'of', u'Narendra', u'Modi', u'.'], [u'With', u'the', u'consequential', u'dissolution', u'of', u'the', u'15th', u'Lok', u'Sabha', u',', u'the', u'GST', u'Bill', u'\\u2013', u'approved', u'by', u'the', u'standing', u'committee', u'for', u'reintroduction', u'\\u2013', u'lapsed', u'.'], [u'Seven', u'months', u'after', u'the', u'formation', u'of', u'the', u'Modi', u'government', u',', u'the', u'new', u'Finance', u'Minister', u'Arun', u'Jaitley', u'introduced', u'the', u'GST', u'Bill', u'in', u'the', u'Lok', u'Sabha', u',', u'where', u'the', u'BJP', u'had', u'a', u'majority', u'.'], [u'In', u'February', u'2015', u',', u'Jaitley', u'set', u'another', u'deadline', u'of', u'1', u'April', u'2016', u'to', u'implement', u'GST', u'.'], [u'In', u'May', u'2015', u',', u'the', u'Lok', u'Sabha', u'passed', u'the', u'Constitution', u'Amendment', u'Bill', u',', u'paving', u'way', u'for', u'GST', u'.'], [u'However', u',', u'the', u'Opposition', u',', u'led', u'by', u'the', u'Congress', u'demanded', u'that', u'the', u'GST', u'Bill', u'be', u'again', u'sent', u'back', u'to', u'the', u'Select', u'Committee', u'of', u'the', u'Rajya', u'Sabha', u'due', u'to', u'disagreements', u'on', u'several', u'statements', u'in', u'the', u'Bill', u'relating', u'to', u'taxation', u'.'], [u'Finally', u'in', u'August', u'2016', u',', u'the', u'Amendment', u'Bill', u'was', u'passed', u'.'], [u'Over', u'the', u'next', u'15', u'to', u'20', u'days', u',', u'18', u'states', u'ratified', u'the', u'GST', u'Bill', u'and', u'the', u'President', u'Pranab', u'Mukherjee', u'gave', u'his', u'assent', u'to', u'it.A', u'21-members', u'select', u'committee', u'was', u'formed', u'to', u'look', u'into', u'the', u'proposed', u'GST', u'laws', u'.'], [u'State', u'and', u'Union', u'Territory', u'GST', u'laws', u'were', u'passed', u'by', u'all', u'the', u'states', u'and', u'Union', u'Territories', u'of', u'India', u'except', u'Jammu', u'&', u'Kashmir', u',', u'paving', u'the', u'way', u'for', u'smooth', u'rollout', u'of', u'the', u'tax', u'from', u'1', u'July', u'2017', u'.'], [u'There', u'will', u'be', u'no', u'GST', u'on', u'the', u'sale', u'and', u'purchase', u'of', u'securities', u'.'], [u'That', u'will', u'continue', u'to', u'be', u'governed', u'by', u'Securities', u'Transaction', u'Tax', u'(', u'STT', u')', u'.The', u'Goods', u'and', u'Services', u'Tax', u'(', u'GST', u')', u',', u'was', u'launched', u'on', u'the', u'midnight', u'of', u'30', u'June', u'2017', u'by', u'the', u'Prime', u'Minister', u'of', u'India', u'Narendra', u'Modi', u'.'], [u'The', u'launch', u'was', u'marked', u'by', u'a', u'historic', u'midnight', u'(', u'June', u'30-July', u'1', u',', u'2017', u')', u'session', u'of', u'both', u'the', u'houses', u'of', u'parliament', u'convened', u'at', u'the', u'Central', u'Hall', u'of', u'the', u'Parliament', u'.'], [u'Though', u'the', u'session', u'was', u'attended', u'by', u'high-profile', u'guests', u'from', u'the', u'business', u'and', u'the', u'entertainment', u'industry', u'including', u'Ratan', u'Tata', u',', u'it', u'was', u'boycotted', u'by', u'the', u'opposition', u'due', u'to', u'the', u'predicted', u'problems', u'that', u'it', u'was', u'bound', u'to', u'lead', u'to', u'for', u'the', u'middle', u'and', u'lower', u'class', u'Indians', u'.'], [u'It', u'is', u'one', u'of', u'the', u'few', u'midnight', u'sessions', u'that', u'have', u'been', u'held', u'by', u'the', u'parliament', u'-', u'the', u'others', u'being', u':', u'the', u'first', u',', u'August', u'15', u',', u'1947', u',', u'declaring', u'India', u'\\u2019', u's', u'independence', u'marked', u'by', u'Nehru', u'\\u2019', u's', u'historic', u'speech', u'Tryst', u'with', u'Destiny', u';', u'the', u'second', u',', u'August', u'15', u',', u'1972', u',', u'celebrating', u'the', u'silver', u'jubilee', u'of', u'India', u'\\u2019', u's', u'independence', u';', u'and', u'the', u'third', u',', u'August', u'15', u',', u'1997', u':', u'celebrating', u'the', u'golden', u'jubilee', u'of', u'India', u'\\u2019', u's', u'Independence.A', u'single', u'GST', u'replaced', u'several', u'existing', u'taxes', u'and', u'levies', u'which', u'include', u':', u'central', u'excise', u'duty', u',', u'services', u'tax', u',', u'additional', u'customs', u'duty', u',', u'surcharges', u',', u'state-level', u'value', u'added', u'tax', u'and', u'Octroi', u'.'], [u'Other', u'levies', u'which', u'were', u'applicable', u'on', u'inter-state', u'transportation', u'of', u'goods', u'has', u'also', u'been', u'done', u'away', u'with', u'in', u'GST', u'regime.GST', u'is', u'levied', u'on', u'all', u'transactions', u'such', u'as', u'sale', u',', u'transfer', u',', u'purchase', u',', u'barter', u',', u'lease', u',', u'or', u'import', u'of', u'goods', u'and/or', u'services', u'.'], [u'India', u'adopted', u'a', u'dual', u'GST', u'model', u',', u'meaning', u'that', u'taxation', u'is', u'administered', u'by', u'both', u'the', u'Union', u'and', u'State', u'Governments', u'.'], [u'Transactions', u'made', u'within', u'a', u'single', u'state', u'will', u'be', u'levied', u'with', u'Central', u'GST', u'(', u'CGST', u')', u'by', u'the', u'Central', u'Government', u'and', u'State', u'GST', u'(', u'SGST', u')', u'by', u'the', u'government', u'of', u'that', u'state', u'.'], [u'For', u'inter-state', u'transactions', u'and', u'imported', u'goods', u'or', u'services', u',', u'an', u'Integrated', u'GST', u'(', u'IGST', u')', u'is', u'levied', u'by', u'the', u'Central', u'Government', u'.'], [u'GST', u'is', u'a', u'consumption-based', u'tax', u',', u'therefore', u',', u'taxes', u'are', u'paid', u'to', u'the', u'state', u'where', u'the', u'goods', u'or', u'services', u'are', u'consumed', u'not', u'the', u'state', u'in', u'which', u'they', u'were', u'produced', u'.'], [u'IGST', u'complicates', u'tax', u'collection', u'for', u'State', u'Governments', u'by', u'disabling', u'them', u'to', u'collect', u'the', u'tax', u'owed', u'to', u'them', u'directly', u'from', u'the', u'Central', u'Government', u'.'], [u'Under', u'the', u'previous', u'system', u',', u'a', u'state', u'would', u'have', u'to', u'only', u'deal', u'with', u'a', u'single', u'government', u'in', u'order', u'to', u'collect', u'tax', u'revenue.The', u'GST', u'is', u'imposed', u'at', u'different', u'rates', u'on', u'different', u'items', u'.'], [u'The', u'rate', u'of', u'GST', u'is', u'18', u'%', u'for', u'soaps', u'and', u'28', u'%', u'on', u'washing', u'detergents', u'.'], [u'GST', u'on', u'movie', u'tickets', u'is', u'based', u'on', u'slabs', u',', u'with', u'18', u'%', u'GST', u'for', u'tickets', u'that', u'cost', u'less', u'than', u'Rs', u'.'], [u'100', u'and', u'28', u'%', u'GST', u'on', u'tickets', u'costing', u'more', u'than', u'Rs.100', u'.'], [u'The', u'rate', u'on', u'under-construction', u'property', u'booking', u'is', u'12', u'%', u'.The', u'introduction', u'of', u'the', u'GST', u'increased', u'the', u'costs', u'of', u'most', u'consumer', u'goods', u'and', u'services', u'in', u'India', u'including', u'food', u',', u'hotel', u'charges', u',', u'insurance', u'and', u'cinema', u'tickets', u'.'], [u'Upon', u'its', u'introduction', u'in', u'the', u'country', u',', u'GST', u'led', u'to', u'a', u'number', u'of', u'protests', u'by', u'the', u'business', u'community', u',', u'primarily', u'due', u'to', u'an', u'increase', u'in', u'overall', u'taxes', u'and', u'hence', u'the', u'prices', u'of', u'goods', u'.'], [u'Nearly', u'1100', u'cinema', u'theaters', u'in', u'the', u'state', u'of', u'Tamil', u'Nadu', u'declared', u'an', u'indefinite', u'strike', u'from', u'3rd', u'July', u'2017.Checkposts', u'across', u'the', u'country', u'were', u'abolished', u'ensuring', u'free', u'and', u'fast', u'movement', u'of', u'goods.The', u'Central', u'Government', u'had', u'proposed', u'to', u'insulate', u'the', u'revenues', u'of', u'the', u'States', u'from', u'the', u'impact', u'of', u'GST', u',', u'with', u'the', u'expectation', u'that', u'in', u'due', u'course', u',', u'GST', u'will', u'be', u'levied', u'on', u'petroleum', u'and', u'petroleum', u'products', u'.'], [u'The', u'central', u'government', u'had', u'assured', u'states', u'of', u'compensation', u'for', u'any', u'revenue', u'loss', u'incurred', u'by', u'them', u'from', u'the', u'date', u'of', u'GST', u'for', u'a', u'period', u'of', u'five', u'years', u'.'], [u'However', u',', u'no', u'concrete', u'laws', u'were', u'made', u'to', u'support', u'such', u'action.As', u'per', u'the', u'government', u'website', u'on', u'GST', u',', u'``', u'Goods', u'and', u'Services', u'Tax', u\"''\", u'Network', u'(', u'GSTN', u')', u'is', u'a', u'nonprofit', u'organisation', u'proposed', u'to', u'be', u'formed', u'for', u'creating', u'a', u'website', u'/', u'platform', u'for', u'all', u'the', u'concerned', u'parties', u'related', u'to', u'the', u'GST', u',', u'namely', u'stakeholders', u',', u'government', u'and', u'taxpayers', u'to', u'collaborate', u'on', u'a', u'single', u'portal', u'.'], [u'When', u'up', u'and', u'running', u',', u'the', u'portal', u'is', u'supposed', u'to', u'be', u'accessible', u'to', u'the', u'central', u'government', u'which', u'allows', u'it', u'to', u'track', u'down', u'every', u'transaction', u'on', u'its', u'end', u'while', u'taxpayers', u'are', u'advertised', u'to', u'have', u'the', u'ability', u'of', u'connecting', u'this', u'to', u'their', u'tax', u'returns', u'.'], [u'However', u'its', u'efficacy', u'and', u'efficiency', u'is', u'yet', u'to', u'be', u'tested', u'.'], [u'The', u'IT', u'network', u'was', u'touted', u'to', u'be', u'developed', u'by', u'unnamed', u'private', u'firms', u'.'], [u'The', u'known', u'authorised', u'capital', u'of', u'GSTN', u'is', u'\\u20b910', u'crore', u'(', u'US', u'$', u'1.6', u'million', u')', u'in', u'which', u'Central', u'Government', u'holds', u'24.5', u'percent', u'of', u'shares', u'while', u'the', u'state', u'government', u'holds', u'24.5', u'percent', u'and', u'rest', u'with', u'private', u'banking', u'firms', u'for', u'smooth', u'running', u'of', u'the', u'transactions', u'.']]\n"
     ]
    }
   ],
   "source": [
    "# # for each sentence word tokenize it\n",
    "words = [nltk.word_tokenize(sent) for sent in sents]\n",
    "print(words)"
   ]
  },
  {
   "cell_type": "code",
   "execution_count": 8,
   "metadata": {
    "collapsed": true
   },
   "outputs": [],
   "source": [
    "#lowercasing the text\n",
    "#remove the words if present in stop list\n",
    "#removing non alphanumeric and numeric text\n",
    "#getting the indices of the words\n",
    "StopWords = stopwords.words(\"english\")\n",
    "stemmer = PorterStemmer()\n",
    "index_processed = []\n",
    "text_processed = []\n",
    "p = re.compile('[a-zA-Z]+');\n",
    "for sent in words:\n",
    "    sent = map(lambda word: word.lower(), sent);\n",
    "    sent = [word for word in sent if word not in StopWords]\n",
    "    doc = [stemmer.stem(word) for word in doc]\n",
    "    filtered_tokens =list(filter(lambda token:p.match(token),sent));\n",
    "    text_processed.append(filtered_tokens)\n",
    "    index = [dictionary[word] if word in dictionary else 0 for word in filtered_tokens]\n",
    "    index_processed.append(index)\n"
   ]
  },
  {
   "cell_type": "code",
   "execution_count": 9,
   "metadata": {
    "collapsed": true
   },
   "outputs": [],
   "source": [
    "#get sent vectors\n",
    "sent_vec=[]\n",
    "for _ in index_processed:\n",
    "    sent_vec.append(np.sum(embeddings[_],axis=0)/len(_))\n",
    "sent_vec = np.array(sent_vec)"
   ]
  },
  {
   "cell_type": "code",
   "execution_count": 10,
   "metadata": {},
   "outputs": [
    {
     "data": {
      "text/plain": [
       "(49, 256)"
      ]
     },
     "execution_count": 10,
     "metadata": {},
     "output_type": "execute_result"
    }
   ],
   "source": [
    "sent_vec.shape"
   ]
  },
  {
   "cell_type": "code",
   "execution_count": 11,
   "metadata": {
    "collapsed": true
   },
   "outputs": [],
   "source": [
    "#cluster the vectors using k means algo\n",
    "#choose your own n_clusters 1\n",
    "from sklearn.cluster import KMeans\n",
    "kmeans = KMeans(n_clusters = 12, random_state=0).fit(sent_vec)"
   ]
  },
  {
   "cell_type": "code",
   "execution_count": 12,
   "metadata": {},
   "outputs": [
    {
     "name": "stdout",
     "output_type": "stream",
     "text": [
      "[(1, 11), (12, 8), (2, 7), (4, 6), (9, 5), (3, 3)]\n"
     ]
    }
   ],
   "source": [
    "cluster = collections.Counter(kmeans.labels_).most_common(6)\n",
    "print((cluster))"
   ]
  },
  {
   "cell_type": "code",
   "execution_count": 13,
   "metadata": {},
   "outputs": [
    {
     "name": "stdout",
     "output_type": "stream",
     "text": [
      "[33 15 34 1 3 20]\n"
     ]
    }
   ],
   "source": [
    "#get the centroid vector and find the nearest vector to it in cluster\n",
    "from scipy import spatial\n",
    "def central_vec(kmeans,cluster):\n",
    "    c_vec = []\n",
    "    vec_index = []\n",
    "    for label,_ in cluster:\n",
    "        index = [i for i in range(len(kmeans.labels_)) if kmeans.labels_[i] == label ]\n",
    "        tree = spatial.KDTree(sent_vec[index])\n",
    "        #print(tree)\n",
    "        query = np.sum(sent_vec,0)/_\n",
    "        d,ind = tree.query(query)\n",
    "        central_vec = sent_vec[index][ind]\n",
    "        c_vec.append(central_vec)\n",
    "        vec_index.append(index[ind])\n",
    "    return c_vec,vec_index\n",
    "c ,v= np.array(central_vec(kmeans,cluster))\n",
    "#c.shape\n",
    "print(v)"
   ]
  },
  {
   "cell_type": "code",
   "execution_count": 14,
   "metadata": {},
   "outputs": [
    {
     "name": "stdout",
     "output_type": "stream",
     "text": [
      "For inter-state transactions and imported goods or services, an Integrated GST (IGST) is levied by the Central Government.\n",
      "However in 2010, with the Trinamool Congress routing CPI(M) out of power in West Bengal, Asim Dasgupta resigned as the head of the GST committee.\n",
      "GST is a consumption-based tax, therefore, taxes are paid to the state where the goods or services are consumed not the state in which they were produced.\n",
      "It was introduced as The Constitution (One Hundred and First Amendment) Act 2017, following the passage of Constitution 122nd Amendment Bill.\n",
      "Under GST, goods and services are taxed at the following rates, 0%, 5%, 12% and 18%.\n",
      "In May 2015, the Lok Sabha passed the Constitution Amendment Bill, paving way for GST.\n"
     ]
    }
   ],
   "source": [
    "#given the req index print the sentences coressponding to it\n",
    "def print_summary(index):\n",
    "    for i in index:\n",
    "        print(sents[i])\n",
    "        \n",
    "print_summary(v)"
   ]
  },
  {
   "cell_type": "code",
   "execution_count": 15,
   "metadata": {
    "scrolled": false
   },
   "outputs": [
    {
     "data": {
      "image/png": "[encoded data removed]",
      "text/plain": [
       "<matplotlib.figure.Figure at 0x7fcca5fb9e10>"
      ]
     },
     "metadata": {},
     "output_type": "display_data"
    }
   ],
   "source": [
    "from sklearn.manifold import TSNE\n",
    "num_points = 12\n",
    "\n",
    "tsne = TSNE(perplexity=30, n_components=2, init='pca', n_iter=5000)\n",
    "two_d_embeddings = tsne.fit_transform(sent_vec[1:num_points+1, :])\n",
    "two_d_embeddings.shape\n",
    "from matplotlib import pylab\n",
    "def plot(embeddings):\n",
    "  #assert embeddings.shape[0] >= len(labels), 'More labels than embeddings'\n",
    "  pylab.figure(figsize=(15,15))  # in inches\n",
    "  for i in range(num_points):\n",
    "    x, y = embeddings[i,:]\n",
    "    pylab.scatter(x, y)\n",
    "    #pylab.annotate(label, xy=(x, y), xytext=(5, 2), textcoords='offset points',\n",
    "                   #ha='right', va='bottom')\n",
    "  pylab.show()\n",
    "\n",
    "#words = [reverse_dictionary[i] for i in range(1, num_points+1)]\n",
    "plot(two_d_embeddings)"
   ]
  },
  {
   "cell_type": "code",
   "execution_count": null,
   "metadata": {
    "collapsed": true
   },
   "outputs": [],
   "source": []
  },
  {
   "cell_type": "code",
   "execution_count": null,
   "metadata": {
    "collapsed": true
   },
   "outputs": [],
   "source": []
  }
 ],
 "metadata": {
  "kernelspec": {
   "display_name": "Python 2",
   "language": "python",
   "name": "python2"
  },
  "language_info": {
   "codemirror_mode": {
    "name": "ipython",
    "version": 2
   },
   "file_extension": ".py",
   "mimetype": "text/x-python",
   "name": "python",
   "nbconvert_exporter": "python",
   "pygments_lexer": "ipython2",
   "version": "2.7.12"
  }
 },
 "nbformat": 4,
 "nbformat_minor": 2
}
